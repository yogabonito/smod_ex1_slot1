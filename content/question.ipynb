{
 "cells": [
  {
   "cell_type": "code",
   "execution_count": 1,
   "id": "40bdce65-a0e3-4d6c-bfaa-77442a22ed2c",
   "metadata": {},
   "outputs": [],
   "source": [
    "import pandas as pd"
   ]
  },
  {
   "cell_type": "code",
   "execution_count": 2,
   "id": "90f97f0a-595f-4c1b-a2cf-8107da71f9cc",
   "metadata": {},
   "outputs": [],
   "source": [
    "from sklearn.linear_model import LinearRegression"
   ]
  },
  {
   "cell_type": "code",
   "execution_count": 4,
   "id": "ad88f1de-c659-4f8a-ab97-46f2aacd05f2",
   "metadata": {},
   "outputs": [],
   "source": [
    "data = pd.read_csv(\"data/student_performance.csv\")"
   ]
  },
  {
   "cell_type": "code",
   "execution_count": 5,
   "id": "8abb4df8-c21c-43af-9470-85263749b006",
   "metadata": {},
   "outputs": [],
   "source": [
    "X = data[[\"Hours Studied\", \"Sleep Hours\", \"Previous Scores\"]].to_numpy()  # Diese Zeile **nicht** ändern!"
   ]
  },
  {
   "cell_type": "code",
   "execution_count": 6,
   "id": "3bccf631-6774-4b86-acc3-f76670fdff7a",
   "metadata": {},
   "outputs": [],
   "source": [
    "y = data[[\"Performance Index\"]].to_numpy()"
   ]
  },
  {
   "cell_type": "markdown",
   "id": "b39058d7-148a-4f21-8336-9a6b9b53a7c5",
   "metadata": {},
   "source": [
    "# Aufgabe\n",
    "\n",
    "Wir möchten ein lineares Regressionsmodell trainieren, das einen linearen Zusammenhang zwischen den Features und der Zielvariable Lernerfolg (=\"Performance Index\") herstellt. Featurewerte sind in der Variable `X` gespeichert. Die Variable `y` gibt uns Zugriff auf die Werte der Zielvariable. \n",
    "\n",
    "## a)\n",
    "\n",
    "Die Variable `X` umfasst derzeit drei Features (Spalten), jedoch sind wir nur an den Features\n",
    "\n",
    "- Anzahl an gelernten Stunden (\"Hours Studied\")\n",
    "- Anzahl an Stunden Schlaf pro Nacht (\"Sleep Hours\")\n",
    "\n",
    "interessiert. Überschreiben Sie die Variable `X` so, dass nur die ersten beiden Spalten von `X` übrig bleiben. Dazu dürfen Sie nur die Variable `X` nutzen. (Das heißt Sie dürfen die Variable `data` nicht nutzen!)\n"
   ]
  },
  {
   "cell_type": "markdown",
   "id": "a632a549-8fa4-4d1d-a6ea-65cc9792e386",
   "metadata": {},
   "source": [
    "## b)\n",
    "\n",
    "Trainieren Sie ein lineares Regressionsmodell auf den Daten! Verwenden Sie dabei nicht mehr Features als die beiden oben erwähnten Features!"
   ]
  },
  {
   "cell_type": "code",
   "execution_count": null,
   "id": "6307e128-8479-4464-96b1-28f29d5a9e57",
   "metadata": {},
   "outputs": [],
   "source": []
  },
  {
   "cell_type": "markdown",
   "id": "89a51a43-da8a-452b-b3bf-ca5c1e8fffd4",
   "metadata": {},
   "source": [
    "## c)\n",
    "\n",
    "Sagen Sie den Lernerfolg vorher für den Fall, dass 9 Stunden gelernt und 6 Stunden geschlafen wurde!"
   ]
  },
  {
   "cell_type": "code",
   "execution_count": null,
   "id": "a60b8965-7372-40d4-b290-b7be8b8c7462",
   "metadata": {},
   "outputs": [],
   "source": []
  },
  {
   "cell_type": "markdown",
   "id": "4751380f-f478-48d5-9268-2a754c007dd8",
   "metadata": {},
   "source": [
    "## d)\n",
    "\n",
    "Wie hoch sind $\\theta_1$ und $\\theta_2$ in diesem Modell?"
   ]
  },
  {
   "cell_type": "code",
   "execution_count": null,
   "id": "1e103ecf-0c38-46f6-bf9e-f37787e55eae",
   "metadata": {},
   "outputs": [],
   "source": []
  },
  {
   "cell_type": "markdown",
   "id": "362887b8-4c74-42ac-a07e-ef2338d9696e",
   "metadata": {},
   "source": [
    "## e)\n",
    "\n",
    "Was bedeuten $\\theta_1$ und $\\theta_2$ in diesem Modell?"
   ]
  },
  {
   "cell_type": "code",
   "execution_count": null,
   "id": "5a5a863e-0474-4b53-8f8d-b5ecaf766fb7",
   "metadata": {},
   "outputs": [],
   "source": []
  },
  {
   "cell_type": "markdown",
   "id": "0d68bbf2-61c5-4d97-98ab-615c70cd2aea",
   "metadata": {
    "jp-MarkdownHeadingCollapsed": true
   },
   "source": [
    "# Englisch version"
   ]
  },
  {
   "cell_type": "markdown",
   "id": "8220a551-f773-417a-a67d-5a8115883a7f",
   "metadata": {},
   "source": [
    "## Task\n",
    "\n",
    "We want to train a linear regression model which finds a linear relation between the features and the target \"student performance\" (\"performance index\"). The feature values are stored in the variable `X`. The variable `y` contains the target.\n",
    "\n",
    "## a)\n",
    "\n",
    "The variable `X` comprises three features (columns), but we are only interested in the features\n",
    "\n",
    "- number of hours spent learning (\"Hours Studied\") and\n",
    "- number of hours spent sleeping at night (\"Sleep Hours\").\n",
    "\n",
    "Overwrite the variable `X` in such a way that only the first two columns of `X` remain. To this end, you may only use the variable `X`. (That means that you are **not** allowed to use the variable `data`!)\n"
   ]
  },
  {
   "cell_type": "code",
   "execution_count": null,
   "id": "3325f0fc-a7e4-4141-aa88-df8c66f46f1f",
   "metadata": {},
   "outputs": [],
   "source": []
  },
  {
   "cell_type": "markdown",
   "id": "03fab6ae-3af7-4c09-aed2-c3c697f63b42",
   "metadata": {},
   "source": [
    "## b)\n",
    "\n",
    "Train a linear regression model on the data! In this process, do not use more features that the two mentioned above! "
   ]
  },
  {
   "cell_type": "code",
   "execution_count": null,
   "id": "1516f278-e5bb-48d3-95bf-512af163fd5d",
   "metadata": {},
   "outputs": [],
   "source": []
  },
  {
   "cell_type": "markdown",
   "id": "de8bdc80-3e3b-4acc-abb9-92b4de238c6c",
   "metadata": {},
   "source": [
    "## c)\n",
    "\n",
    "Predict the student performance in case that 9 hours were spent learning and 6 hours were spent sleeping!"
   ]
  },
  {
   "cell_type": "code",
   "execution_count": null,
   "id": "03adab97-2c5f-4fa2-ad7a-2d4a310f1c39",
   "metadata": {},
   "outputs": [],
   "source": []
  },
  {
   "cell_type": "markdown",
   "id": "ae404a45-aff6-4d6e-a4ef-3b581cacc88e",
   "metadata": {},
   "source": [
    "## d)\n",
    "\n",
    "What are the values of $\\theta_1$ and $\\theta_2$ in this model?"
   ]
  },
  {
   "cell_type": "code",
   "execution_count": null,
   "id": "a8653f3d-d84e-407f-a824-682ca9bac3d1",
   "metadata": {},
   "outputs": [],
   "source": []
  },
  {
   "cell_type": "markdown",
   "id": "fc08bb43-3d1b-47d8-a0ee-e3c3b7ef92ae",
   "metadata": {},
   "source": [
    "## e)\n",
    "\n",
    "What do $\\theta_1$ and $\\theta_2$ mean in this model?"
   ]
  },
  {
   "cell_type": "code",
   "execution_count": null,
   "id": "a54f6739-bd2b-4cb5-8bae-6fc7f5669b7b",
   "metadata": {},
   "outputs": [],
   "source": []
  }
 ],
 "metadata": {
  "kernelspec": {
   "display_name": "Python 3 (ipykernel)",
   "language": "python",
   "name": "python3"
  },
  "language_info": {
   "codemirror_mode": {
    "name": "ipython",
    "version": 3
   },
   "file_extension": ".py",
   "mimetype": "text/x-python",
   "name": "python",
   "nbconvert_exporter": "python",
   "pygments_lexer": "ipython3",
   "version": "3.13.1"
  }
 },
 "nbformat": 4,
 "nbformat_minor": 5
}
